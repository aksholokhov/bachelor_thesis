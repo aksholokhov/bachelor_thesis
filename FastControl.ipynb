{
 "cells": [
  {
   "cell_type": "code",
   "execution_count": 2,
   "metadata": {
    "collapsed": true
   },
   "outputs": [],
   "source": [
    "%load_ext autoreload\n",
    "\n",
    "%autoreload 2"
   ]
  },
  {
   "cell_type": "code",
   "execution_count": 1,
   "metadata": {},
   "outputs": [
    {
     "name": "stdout",
     "output_type": "stream",
     "text": [
      "Populating the interactive namespace from numpy and matplotlib\n"
     ]
    }
   ],
   "source": [
    "%pylab inline\n",
    "from numpy import copy\n",
    "import scipy as sp\n",
    "\n",
    "from ipywidgets import FloatProgress\n",
    "from IPython.display import display\n",
    "\n",
    "import timeit\n",
    "\n",
    "import fibonacci_heap_mod as fhm\n",
    "\n",
    "from scipy import sparse\n",
    "\n",
    "from tqdm import tqdm\n",
    "\n",
    "from time import sleep\n",
    "import threading"
   ]
  },
  {
   "cell_type": "code",
   "execution_count": 25,
   "metadata": {},
   "outputs": [
    {
     "data": {
      "text/plain": [
       "-9.7591848298711389e-16"
      ]
     },
     "execution_count": 25,
     "metadata": {},
     "output_type": "execute_result"
    }
   ],
   "source": [
    "from numpy.linalg import eig\n",
    "\n",
    "P = array([[1,2,3],[4,5,6],[7,8,9]])\n",
    "sorted(eig(P)[0])[1]"
   ]
  },
  {
   "cell_type": "code",
   "execution_count": 15,
   "metadata": {},
   "outputs": [
    {
     "data": {
      "text/plain": [
       "array([[-0.41597356, -0.90937671]])"
      ]
     },
     "execution_count": 15,
     "metadata": {},
     "output_type": "execute_result"
    }
   ],
   "source": [
    "P."
   ]
  },
  {
   "cell_type": "code",
   "execution_count": 9,
   "metadata": {},
   "outputs": [],
   "source": [
    "from numpy.linalg import eig\n",
    "from numpy.linalg import norm\n",
    "\n",
    "class ObjectiveGenerator:\n",
    "    \n",
    "    def __init__(self, c, q, u, s):\n",
    "        self.c = c\n",
    "        self.q = q\n",
    "        self.u = u\n",
    "        self.s = s\n",
    "        self.elems = {\"sec_eig\": second_eignvalue, \"price\": price, \"power_deviations\": power_deviations}\n",
    "    \n",
    "    def second_eignvalue(self, P):\n",
    "        return sorted(eig(P)[0])[1]\n",
    "    \n",
    "    def price(self, P):\n",
    "        return self.c*self.q.dot(P.dot(self.u))\n",
    "    \n",
    "    def power_deviations(self, P):\n",
    "        return (self.q.dot(P.dot(self.u)) - s)**2\n",
    "    \n",
    "    def get_objective(self, factors):\n",
    "        return lambda P: sum([elems[factor](P) for factor in factors])\n",
    "    \n",
    "    def se_lagrangian_grad(self, P, Q, Y, rho, w, z):\n",
    "        v2 = eig(P)[1][:, 1]\n",
    "        "
   ]
  },
  {
   "cell_type": "code",
   "execution_count": null,
   "metadata": {
    "collapsed": true
   },
   "outputs": [],
   "source": [
    "def lag_grad_p(P, Q, Y, rho, w, z, pi):\n",
    "    v2 = eig(P)[1][:, 1]\n",
    "    last_part = [[rho*pi[j]*(p[j,i]-1) for j in P.shape[1]] for i in P.shape[0]]\n",
    "    "
   ]
  },
  {
   "cell_type": "code",
   "execution_count": 34,
   "metadata": {},
   "outputs": [
    {
     "data": {
      "text/plain": [
       "array([-0.57236779, -0.07568647, -0.81649658])"
      ]
     },
     "execution_count": 34,
     "metadata": {},
     "output_type": "execute_result"
    }
   ],
   "source": [
    "P = array([[1,2,3],[4,5,6],[7,8,9]])\n",
    "sorted(zip(*eig(P.T.dot(P))), key=lambda x: x[0], reverse=True)[1][1]"
   ]
  },
  {
   "cell_type": "code",
   "execution_count": 35,
   "metadata": {},
   "outputs": [
    {
     "name": "stdout",
     "output_type": "stream",
     "text": [
      "[[ 0.51391125  0.52294408  0.52058995]\n",
      " [ 0.52507391  0.51568576  0.51857715]\n",
      " [ 0.52224883  0.51810619  0.51789457]] 111\n"
     ]
    }
   ],
   "source": [
    "from main import solve\n",
    "n = 3\n",
    "c = 1\n",
    "u = zeros(n).reshape((n, 1))\n",
    "u[0][0] = 1\n",
    "s = 1\n",
    "pi = (ones(n)/n).reshape((n, 1))\n",
    "q = ones(n).reshape((n, 1))\n",
    "P, log, converged = solve(c, u, s, pi, q)\n",
    "print(P, converged)"
   ]
  },
  {
   "cell_type": "code",
   "execution_count": 39,
   "metadata": {},
   "outputs": [
    {
     "data": {
      "image/png": "[encoded data removed]",
      "text/plain": [
       "<matplotlib.figure.Figure at 0x10dac1f98>"
      ]
     },
     "metadata": {},
     "output_type": "display_data"
    },
    {
     "data": {
      "text/plain": [
       "[<matplotlib.lines.Line2D at 0x10dba5240>]"
      ]
     },
     "execution_count": 39,
     "metadata": {},
     "output_type": "execute_result"
    },
    {
     "data": {
      "image/png": "[encoded data removed]",
      "text/plain": [
       "<matplotlib.figure.Figure at 0x10db2c940>"
      ]
     },
     "metadata": {},
     "output_type": "display_data"
    }
   ],
   "source": [
    "plot(log[\"P_grad_norm\"])\n",
    "show()\n",
    "plot(log[\"P_Q_difference\"])"
   ]
  },
  {
   "cell_type": "code",
   "execution_count": null,
   "metadata": {
    "collapsed": true
   },
   "outputs": [],
   "source": []
  }
 ],
 "metadata": {
  "kernelspec": {
   "display_name": "Python 3",
   "language": "python",
   "name": "python3"
  },
  "language_info": {
   "codemirror_mode": {
    "name": "ipython",
    "version": 3
   },
   "file_extension": ".py",
   "mimetype": "text/x-python",
   "name": "python",
   "nbconvert_exporter": "python",
   "pygments_lexer": "ipython3",
   "version": "3.6.1"
  }
 },
 "nbformat": 4,
 "nbformat_minor": 2
}
