{
 "cells": [
  {
   "cell_type": "code",
   "execution_count": 1,
   "metadata": {},
   "outputs": [],
   "source": [
    "%load_ext autoreload\n",
    "\n",
    "%autoreload 2"
   ]
  },
  {
   "cell_type": "code",
   "execution_count": 2,
   "metadata": {},
   "outputs": [
    {
     "name": "stdout",
     "output_type": "stream",
     "text": [
      "Populating the interactive namespace from numpy and matplotlib\n"
     ]
    }
   ],
   "source": [
    "%pylab inline\n",
    "from numpy import copy\n",
    "import scipy as sp\n",
    "from tqdm import tqdm\n",
    "from time import time, sleep"
   ]
  },
  {
   "cell_type": "markdown",
   "metadata": {},
   "source": [
    "DISCLAIMER: проект находится сейчас в крайне нестабильной альфа-версии. Нижеприведенный код сходится далеко не при всех возможных параметрах. Это обусловлено тем, что алгоритм ADMM имеет четыре параметра, отвечающие за точность решения, и чтоб он не расходился, эти параметры должны находиться в каком-то нетривиальном (неустановленом пока) отношении. Под капотом стоят вручную заданные параметры такие, что при числе состояний от 5 до 10 и при числе девайсов от 10 до 300 оно __вроде бы__ не падает. На моем маке он строит график в среднем за минуту. Если алгоритм работает крайне долго и не завершается -- нужно останавливать ядро. Если он падает -- нужно слегка поварьировать входные параметры."
   ]
  },
  {
   "cell_type": "code",
   "execution_count": null,
   "metadata": {},
   "outputs": [
    {
     "name": "stderr",
     "output_type": "stream",
     "text": [
      " 74%|███████▎  | 147/200 [00:34<00:12,  4.24it/s]"
     ]
    }
   ],
   "source": [
    "from Ensemble import AbstractEnsemble\n",
    "from main import solve\n",
    "from scipy.optimize import minimize\n",
    "\n",
    "\n",
    "# Здесь находятся параметры, которые можно менять\n",
    "\n",
    "# K -- число девайсов. Чем их больше -- тем плавнее выглядит график, но тем сильнее нагружается \n",
    "# ядро OC. На практике, контроль дает адекватную картинку даже при малом числе девайсов (5-10).\n",
    "# Для \"дерганного\" графика рекомендую K = 10, для \"плавного\" K = 300. Осторожно: каждый девайс \n",
    "# существует в отдельном потоке, поэтому при K = 400 машина рискует зависнуть и потребовать\n",
    "# перезагрузки\n",
    "K = 300 \n",
    "# N -- число состояний. Не тестировалось больше, чем на 50 состояниях. Рекомендую оставить 5-6. \n",
    "N = 5\n",
    "# q -- вектор стоимости состояний. Сейчас первое состояние стоит 1, второе -- 2 и тд\n",
    "q = (arange(N) + 1).reshape((N, 1))\n",
    "# random_seed определяет форму кривой требуемой энергии. Не нравится текущая -- смени random_seed. \n",
    "random_seed = 42\n",
    "# T -- периодичность, с которой нам приходят запросы на требуемое потребление (каждые T тактов)\n",
    "T = 5\n",
    "# jump_probability определяет вероятность, с которой каждые T тактов приходит \n",
    "# запрос на новый уровень энергии. 0 -- константный запрос, 1 -- скачет каждые T тактов\n",
    "jump_probability = 1/3\n",
    "# time_limit -- число тактов, которые работает система. Чем больше -- тем дольше работает.\n",
    "time_limit = 200\n",
    "\n",
    "\n",
    "#ниже -- блок кода, который трогать не надо\n",
    "np.random.seed(random_seed)\n",
    "\n",
    "ensemble = AbstractEnsemble(K, default_policy = ones((N, N))/N, tick=0.01, random_seed=random_seed)\n",
    "states = []\n",
    "consumption = []\n",
    "ss = []\n",
    "sol = []\n",
    "us = []\n",
    "pn = []\n",
    "sn = []\n",
    "s = 0\n",
    "\n",
    "def c(t):\n",
    "    return 1\n",
    "\n",
    "def find_pi_new(pi_old, q, s):\n",
    "    n = len(q)\n",
    "    f = lambda x: norm(x - pi_old)**2\n",
    "    cons = [{\"type\": \"eq\", \"fun\": lambda x: x.dot(q) - s},\n",
    "            {\"type\": \"eq\", \"fun\": lambda x: x.dot(ones(n)) - 1}]\n",
    "    bnds = [(0, None) for _ in range(n)]\n",
    "    res = minimize(f, pi_old, method='SLSQP', bounds=bnds, constraints=tuple(cons))\n",
    "    return res.x.reshape((n, 1))\n",
    "    \n",
    "try:\n",
    "    ensemble.run()\n",
    "\n",
    "    for i in tqdm(range(1,time_limit+1)):\n",
    "        sleep(0.02)\n",
    "        if i % T == 0 and rand() > 1-jump_probability:\n",
    "            s = 1+ rand()*(N-2)\n",
    "            u = states[-1]\n",
    "            pi_new = find_pi_new(u, q, s)\n",
    "            #print(c(i), u, s, pi_new, q)\n",
    "            begin = time()\n",
    "            us.append(u)\n",
    "            pn.append(pi_new)\n",
    "            sn.append(s)\n",
    "            P, log, converged = solve(c(i), u, s, pi_new, q)\n",
    "            end = time()\n",
    "            sol.append(end-begin)\n",
    "            ensemble.change_policy(P)\n",
    "        ss.append(s)\n",
    "        states.append(copy(ensemble.get_state_distribution().reshape((N, 1))))\n",
    "        states[-1] /= sum(states[-1])\n",
    "        consumption.append(q.T.dot(states[-1]))\n",
    "finally:     \n",
    "    ensemble.stop()\n",
    "    \n",
    "    \n",
    "# ниже -- блок кода, который отвечает за рисование графика. \n",
    "matplotlib.rcParams.update({\"font.size\":14})\n",
    "figure(figsize=(12, 5))\n",
    "plot([x[0, 0] for x in consumption], label=\"real consumption\")\n",
    "plot(ss, label=\"control signal\")\n",
    "xlabel(\"Time, sec\")\n",
    "ylabel(\"Power, KW\")\n",
    "legend()"
   ]
  }
 ],
 "metadata": {
  "kernelspec": {
   "display_name": "Python 3",
   "language": "python",
   "name": "python3"
  },
  "language_info": {
   "codemirror_mode": {
    "name": "ipython",
    "version": 3
   },
   "file_extension": ".py",
   "mimetype": "text/x-python",
   "name": "python",
   "nbconvert_exporter": "python",
   "pygments_lexer": "ipython3",
   "version": "3.6.1"
  }
 },
 "nbformat": 4,
 "nbformat_minor": 2
}
